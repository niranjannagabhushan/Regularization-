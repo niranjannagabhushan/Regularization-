{
  "cells": [
    {
      "cell_type": "markdown",
      "metadata": {
        "papermill": {
          "duration": 0.048439,
          "end_time": "2020-10-01T15:25:29.856687",
          "exception": false,
          "start_time": "2020-10-01T15:25:29.808248",
          "status": "completed"
        },
        "tags": [],
        "id": "jTRGpN0umnJW"
      },
      "source": [
        "> # LASSO and RIDGE Regression"
      ]
    },
    {
      "cell_type": "markdown",
      "metadata": {
        "papermill": {
          "duration": 0.039964,
          "end_time": "2020-10-01T15:25:30.018225",
          "exception": false,
          "start_time": "2020-10-01T15:25:29.978261",
          "status": "completed"
        },
        "tags": [],
        "id": "s9jiX36UmnJ-"
      },
      "source": [
        "## Conceptual Overview\n",
        "\n",
        "\n",
        "Lasso and Ridge regression, also known as L1 & L2 respectively, are **“regularization”** techniques.\n",
        "\n",
        "![image.png](attachment:image.png)"
      ]
    },
    {
      "cell_type": "markdown",
      "metadata": {
        "papermill": {
          "duration": 0.037983,
          "end_time": "2020-10-01T15:25:30.096308",
          "exception": false,
          "start_time": "2020-10-01T15:25:30.058325",
          "status": "completed"
        },
        "tags": [],
        "id": "fx7c7fh4mnKH"
      },
      "source": [
        "The goal of regularization is to improve the overall fit by adjusting **“bias”** ande **“variance”**, by adding a penalty that scales with model complexity.\n",
        "\n",
        "![image.png](attachment:image.png)"
      ]
    },
    {
      "cell_type": "markdown",
      "metadata": {
        "papermill": {
          "duration": 0.038784,
          "end_time": "2020-10-01T15:25:30.174582",
          "exception": false,
          "start_time": "2020-10-01T15:25:30.135798",
          "status": "completed"
        },
        "tags": [],
        "id": "vGpD3V_UmnKM"
      },
      "source": [
        "Applying this to linear regression, we start with a line through our data.\n",
        "\n",
        "![image.png](attachment:image.png)"
      ]
    },
    {
      "cell_type": "markdown",
      "metadata": {
        "papermill": {
          "duration": 0.039147,
          "end_time": "2020-10-01T15:25:30.253403",
          "exception": false,
          "start_time": "2020-10-01T15:25:30.214256",
          "status": "completed"
        },
        "tags": [],
        "id": "V1H5EgKYmnKR"
      },
      "source": [
        "We calculate the residuals as usual.\n",
        "\n",
        "![image.png](attachment:image.png)"
      ]
    },
    {
      "cell_type": "markdown",
      "metadata": {
        "papermill": {
          "duration": 0.038579,
          "end_time": "2020-10-01T15:25:30.331287",
          "exception": false,
          "start_time": "2020-10-01T15:25:30.292708",
          "status": "completed"
        },
        "tags": [],
        "id": "qlBSguG0mnKV"
      },
      "source": [
        "Next, the penalty is calculated.  For Lasso, the penalty scales with the absolute value of the slope, and for Ridge it scales with the slope squared.\n",
        "\n",
        "![image.png](attachment:image.png)"
      ]
    },
    {
      "cell_type": "markdown",
      "metadata": {
        "papermill": {
          "duration": 0.038952,
          "end_time": "2020-10-01T15:25:30.410152",
          "exception": false,
          "start_time": "2020-10-01T15:25:30.371200",
          "status": "completed"
        },
        "tags": [],
        "id": "73t-tvolmnKZ"
      },
      "source": [
        "The penalty is added to our residual, and then the algorithm proceeds via the least-squares method.\n",
        "\n",
        "![image.png](attachment:image.png)"
      ]
    },
    {
      "cell_type": "markdown",
      "metadata": {
        "papermill": {
          "duration": 0.038019,
          "end_time": "2020-10-01T15:25:30.487767",
          "exception": false,
          "start_time": "2020-10-01T15:25:30.449748",
          "status": "completed"
        },
        "tags": [],
        "id": "03ZUi_IvmnKd"
      },
      "source": [
        "The result is a best-fit line with a smaller slope, that will hopefully fit our test data better.\n",
        "\n",
        "![image.png](attachment:image.png)"
      ]
    },
    {
      "cell_type": "markdown",
      "metadata": {
        "papermill": {
          "duration": 0.038834,
          "end_time": "2020-10-01T15:25:30.568462",
          "exception": false,
          "start_time": "2020-10-01T15:25:30.529628",
          "status": "completed"
        },
        "tags": [],
        "id": "PMtFIZcHmnKh"
      },
      "source": [
        "This is particularly useful when working with a small amount of training data.\n",
        "\n",
        "![image.png](attachment:image.png)"
      ]
    },
    {
      "cell_type": "markdown",
      "metadata": {
        "papermill": {
          "duration": 0.039217,
          "end_time": "2020-10-01T15:25:30.647132",
          "exception": false,
          "start_time": "2020-10-01T15:25:30.607915",
          "status": "completed"
        },
        "tags": [],
        "id": "lGziPc0-mnKm"
      },
      "source": [
        "This is also powerful with higher dimensional data, as the penalty is calculated using the coefficients of all predictive variables.\n",
        "\n",
        "![image.png](attachment:image.png)"
      ]
    },
    {
      "cell_type": "markdown",
      "metadata": {
        "papermill": {
          "duration": 0.038898,
          "end_time": "2020-10-01T15:25:30.726328",
          "exception": false,
          "start_time": "2020-10-01T15:25:30.687430",
          "status": "completed"
        },
        "tags": [],
        "id": "TbiHTfzEmnKp"
      },
      "source": [
        "With Ridge Regression, the influence of unnecessary variables minimized, and with Lasso Regression their coefficients can actually drop to zero, removing them from the model all together.\n",
        "\n",
        "![image.png](attachment:image.png)"
      ]
    },
    {
      "cell_type": "markdown",
      "metadata": {
        "papermill": {
          "duration": 0.039583,
          "end_time": "2020-10-01T15:25:30.804185",
          "exception": false,
          "start_time": "2020-10-01T15:25:30.764602",
          "status": "completed"
        },
        "tags": [],
        "id": "C6VkQ6WvmnKs"
      },
      "source": [
        "Overall, both regularization techniques help reduce overfitting, especially with small datasets or those with many variables."
      ]
    },
    {
      "cell_type": "markdown",
      "metadata": {
        "papermill": {
          "duration": 0.038879,
          "end_time": "2020-10-01T15:25:30.882911",
          "exception": false,
          "start_time": "2020-10-01T15:25:30.844032",
          "status": "completed"
        },
        "tags": [],
        "id": "VEpyNCCgmnKu"
      },
      "source": [
        "## Implementation\n",
        "\n",
        "Below we will predict salary based on the current role someone is in, and then make some predictions on start ups.  I will also include side by side examples showing how it performs compared to decision trees. \n",
        "\n",
        "The first step is to start with \"imports\"."
      ]
    },
    {
      "cell_type": "code",
      "execution_count": 1,
      "metadata": {
        "_cell_guid": "b1076dfc-b9ad-4769-8c92-a6c4dae69d19",
        "_uuid": "8f2839f25d086af736a60e9eeb907d3b93b6e0e5",
        "execution": {
          "iopub.execute_input": "2020-10-01T15:25:30.971332Z",
          "iopub.status.busy": "2020-10-01T15:25:30.970475Z",
          "iopub.status.idle": "2020-10-01T15:25:32.306675Z",
          "shell.execute_reply": "2020-10-01T15:25:32.305786Z"
        },
        "papermill": {
          "duration": 1.383942,
          "end_time": "2020-10-01T15:25:32.306815",
          "exception": false,
          "start_time": "2020-10-01T15:25:30.922873",
          "status": "completed"
        },
        "tags": [],
        "id": "_99YIWn4mnKw"
      },
      "outputs": [],
      "source": [
        "#Numpy is used so that we can deal with array's, which are necessary for any linear algebra\n",
        "import numpy as np\n",
        "\n",
        "#Pandas is used so that we can create dataframes, which is particularly useful when\n",
        "# reading or writing from a CSV.\n",
        "import pandas as pd\n",
        "\n",
        "#Matplotlib is used to generate graphs in just a few lines of code.\n",
        "import matplotlib.pyplot as plt\n",
        "\n",
        "#Import the classes we need to test linear, ridge, and lasso to compare\n",
        "from sklearn.linear_model import LinearRegression, Ridge, Lasso\n",
        "\n",
        "\n",
        "#These will be our main evaluation metrics \n",
        "from sklearn.metrics import r2_score, mean_squared_error\n",
        "\n",
        "# Splitting the dataset into the Training set and Test set\n",
        "from sklearn.model_selection import train_test_split\n",
        "\n",
        "# Will use this to \"normalize\" our data.\n",
        "from sklearn.preprocessing import normalize"
      ]
    },
    {
      "cell_type": "markdown",
      "metadata": {
        "papermill": {
          "duration": 0.038897,
          "end_time": "2020-10-01T15:25:32.386516",
          "exception": false,
          "start_time": "2020-10-01T15:25:32.347619",
          "status": "completed"
        },
        "tags": [],
        "id": "P9v-fQIymnK7"
      },
      "source": [
        "Next we will need to load our data.\n",
        "\n",
        "I will use data on 50 start ups as I have for decision trees and random forests. "
      ]
    },
    {
      "cell_type": "code",
      "execution_count": 2,
      "metadata": {
        "execution": {
          "iopub.execute_input": "2020-10-01T15:25:32.477965Z",
          "iopub.status.busy": "2020-10-01T15:25:32.476627Z",
          "iopub.status.idle": "2020-10-01T15:25:32.509177Z",
          "shell.execute_reply": "2020-10-01T15:25:32.508562Z"
        },
        "papermill": {
          "duration": 0.083425,
          "end_time": "2020-10-01T15:25:32.509311",
          "exception": false,
          "start_time": "2020-10-01T15:25:32.425886",
          "status": "completed"
        },
        "tags": [],
        "id": "rhh_cMCzmnK9",
        "outputId": "a545c27a-f863-41aa-c587-5b5491e1e0f7",
        "colab": {
          "base_uri": "https://localhost:8080/",
          "height": 206
        }
      },
      "outputs": [
        {
          "output_type": "execute_result",
          "data": {
            "text/plain": [
              "   R&D Spend  Administration  Marketing Spend       State     Profit\n",
              "0  165349.20       136897.80        471784.10    New York  192261.83\n",
              "1  162597.70       151377.59        443898.53  California  191792.06\n",
              "2  153441.51       101145.55        407934.54     Florida  191050.39\n",
              "3  144372.41       118671.85        383199.62    New York  182901.99\n",
              "4  142107.34        91391.77        366168.42     Florida  166187.94"
            ],
            "text/html": [
              "\n",
              "  <div id=\"df-e798d4a2-100a-400c-b680-75585d713bc0\">\n",
              "    <div class=\"colab-df-container\">\n",
              "      <div>\n",
              "<style scoped>\n",
              "    .dataframe tbody tr th:only-of-type {\n",
              "        vertical-align: middle;\n",
              "    }\n",
              "\n",
              "    .dataframe tbody tr th {\n",
              "        vertical-align: top;\n",
              "    }\n",
              "\n",
              "    .dataframe thead th {\n",
              "        text-align: right;\n",
              "    }\n",
              "</style>\n",
              "<table border=\"1\" class=\"dataframe\">\n",
              "  <thead>\n",
              "    <tr style=\"text-align: right;\">\n",
              "      <th></th>\n",
              "      <th>R&amp;D Spend</th>\n",
              "      <th>Administration</th>\n",
              "      <th>Marketing Spend</th>\n",
              "      <th>State</th>\n",
              "      <th>Profit</th>\n",
              "    </tr>\n",
              "  </thead>\n",
              "  <tbody>\n",
              "    <tr>\n",
              "      <th>0</th>\n",
              "      <td>165349.20</td>\n",
              "      <td>136897.80</td>\n",
              "      <td>471784.10</td>\n",
              "      <td>New York</td>\n",
              "      <td>192261.83</td>\n",
              "    </tr>\n",
              "    <tr>\n",
              "      <th>1</th>\n",
              "      <td>162597.70</td>\n",
              "      <td>151377.59</td>\n",
              "      <td>443898.53</td>\n",
              "      <td>California</td>\n",
              "      <td>191792.06</td>\n",
              "    </tr>\n",
              "    <tr>\n",
              "      <th>2</th>\n",
              "      <td>153441.51</td>\n",
              "      <td>101145.55</td>\n",
              "      <td>407934.54</td>\n",
              "      <td>Florida</td>\n",
              "      <td>191050.39</td>\n",
              "    </tr>\n",
              "    <tr>\n",
              "      <th>3</th>\n",
              "      <td>144372.41</td>\n",
              "      <td>118671.85</td>\n",
              "      <td>383199.62</td>\n",
              "      <td>New York</td>\n",
              "      <td>182901.99</td>\n",
              "    </tr>\n",
              "    <tr>\n",
              "      <th>4</th>\n",
              "      <td>142107.34</td>\n",
              "      <td>91391.77</td>\n",
              "      <td>366168.42</td>\n",
              "      <td>Florida</td>\n",
              "      <td>166187.94</td>\n",
              "    </tr>\n",
              "  </tbody>\n",
              "</table>\n",
              "</div>\n",
              "      <button class=\"colab-df-convert\" onclick=\"convertToInteractive('df-e798d4a2-100a-400c-b680-75585d713bc0')\"\n",
              "              title=\"Convert this dataframe to an interactive table.\"\n",
              "              style=\"display:none;\">\n",
              "        \n",
              "  <svg xmlns=\"http://www.w3.org/2000/svg\" height=\"24px\"viewBox=\"0 0 24 24\"\n",
              "       width=\"24px\">\n",
              "    <path d=\"M0 0h24v24H0V0z\" fill=\"none\"/>\n",
              "    <path d=\"M18.56 5.44l.94 2.06.94-2.06 2.06-.94-2.06-.94-.94-2.06-.94 2.06-2.06.94zm-11 1L8.5 8.5l.94-2.06 2.06-.94-2.06-.94L8.5 2.5l-.94 2.06-2.06.94zm10 10l.94 2.06.94-2.06 2.06-.94-2.06-.94-.94-2.06-.94 2.06-2.06.94z\"/><path d=\"M17.41 7.96l-1.37-1.37c-.4-.4-.92-.59-1.43-.59-.52 0-1.04.2-1.43.59L10.3 9.45l-7.72 7.72c-.78.78-.78 2.05 0 2.83L4 21.41c.39.39.9.59 1.41.59.51 0 1.02-.2 1.41-.59l7.78-7.78 2.81-2.81c.8-.78.8-2.07 0-2.86zM5.41 20L4 18.59l7.72-7.72 1.47 1.35L5.41 20z\"/>\n",
              "  </svg>\n",
              "      </button>\n",
              "      \n",
              "  <style>\n",
              "    .colab-df-container {\n",
              "      display:flex;\n",
              "      flex-wrap:wrap;\n",
              "      gap: 12px;\n",
              "    }\n",
              "\n",
              "    .colab-df-convert {\n",
              "      background-color: #E8F0FE;\n",
              "      border: none;\n",
              "      border-radius: 50%;\n",
              "      cursor: pointer;\n",
              "      display: none;\n",
              "      fill: #1967D2;\n",
              "      height: 32px;\n",
              "      padding: 0 0 0 0;\n",
              "      width: 32px;\n",
              "    }\n",
              "\n",
              "    .colab-df-convert:hover {\n",
              "      background-color: #E2EBFA;\n",
              "      box-shadow: 0px 1px 2px rgba(60, 64, 67, 0.3), 0px 1px 3px 1px rgba(60, 64, 67, 0.15);\n",
              "      fill: #174EA6;\n",
              "    }\n",
              "\n",
              "    [theme=dark] .colab-df-convert {\n",
              "      background-color: #3B4455;\n",
              "      fill: #D2E3FC;\n",
              "    }\n",
              "\n",
              "    [theme=dark] .colab-df-convert:hover {\n",
              "      background-color: #434B5C;\n",
              "      box-shadow: 0px 1px 3px 1px rgba(0, 0, 0, 0.15);\n",
              "      filter: drop-shadow(0px 1px 2px rgba(0, 0, 0, 0.3));\n",
              "      fill: #FFFFFF;\n",
              "    }\n",
              "  </style>\n",
              "\n",
              "      <script>\n",
              "        const buttonEl =\n",
              "          document.querySelector('#df-e798d4a2-100a-400c-b680-75585d713bc0 button.colab-df-convert');\n",
              "        buttonEl.style.display =\n",
              "          google.colab.kernel.accessAllowed ? 'block' : 'none';\n",
              "\n",
              "        async function convertToInteractive(key) {\n",
              "          const element = document.querySelector('#df-e798d4a2-100a-400c-b680-75585d713bc0');\n",
              "          const dataTable =\n",
              "            await google.colab.kernel.invokeFunction('convertToInteractive',\n",
              "                                                     [key], {});\n",
              "          if (!dataTable) return;\n",
              "\n",
              "          const docLinkHtml = 'Like what you see? Visit the ' +\n",
              "            '<a target=\"_blank\" href=https://colab.research.google.com/notebooks/data_table.ipynb>data table notebook</a>'\n",
              "            + ' to learn more about interactive tables.';\n",
              "          element.innerHTML = '';\n",
              "          dataTable['output_type'] = 'display_data';\n",
              "          await google.colab.output.renderOutput(dataTable, element);\n",
              "          const docLink = document.createElement('div');\n",
              "          docLink.innerHTML = docLinkHtml;\n",
              "          element.appendChild(docLink);\n",
              "        }\n",
              "      </script>\n",
              "    </div>\n",
              "  </div>\n",
              "  "
            ]
          },
          "metadata": {},
          "execution_count": 2
        }
      ],
      "source": [
        "#read the data from csv\n",
        "dataset = pd.read_csv('Startups_data.csv')\n",
        "\n",
        "#take a look at our dataset.  head() gives the first 5 lines. \n",
        "dataset.head()"
      ]
    },
    {
      "cell_type": "markdown",
      "metadata": {
        "papermill": {
          "duration": 0.040683,
          "end_time": "2020-10-01T15:25:32.593458",
          "exception": false,
          "start_time": "2020-10-01T15:25:32.552775",
          "status": "completed"
        },
        "tags": [],
        "id": "7Bhef4EdmnLE"
      },
      "source": [
        "Now to keep this simple, I am only going to look at the continous variables, so we need to drop the State Column."
      ]
    },
    {
      "cell_type": "code",
      "execution_count": 3,
      "metadata": {
        "execution": {
          "iopub.execute_input": "2020-10-01T15:25:32.696914Z",
          "iopub.status.busy": "2020-10-01T15:25:32.695847Z",
          "iopub.status.idle": "2020-10-01T15:25:32.701229Z",
          "shell.execute_reply": "2020-10-01T15:25:32.700478Z"
        },
        "papermill": {
          "duration": 0.067123,
          "end_time": "2020-10-01T15:25:32.701368",
          "exception": false,
          "start_time": "2020-10-01T15:25:32.634245",
          "status": "completed"
        },
        "tags": [],
        "id": "8YsFUxiHmnLF",
        "outputId": "6fc5b6c8-ae93-42bf-ce3e-c68097c6a858",
        "colab": {
          "base_uri": "https://localhost:8080/",
          "height": 206
        }
      },
      "outputs": [
        {
          "output_type": "execute_result",
          "data": {
            "text/plain": [
              "   R&D Spend  Administration  Marketing Spend     Profit\n",
              "0  165349.20       136897.80        471784.10  192261.83\n",
              "1  162597.70       151377.59        443898.53  191792.06\n",
              "2  153441.51       101145.55        407934.54  191050.39\n",
              "3  144372.41       118671.85        383199.62  182901.99\n",
              "4  142107.34        91391.77        366168.42  166187.94"
            ],
            "text/html": [
              "\n",
              "  <div id=\"df-e187fdff-4383-4124-b66b-3a30169067a3\">\n",
              "    <div class=\"colab-df-container\">\n",
              "      <div>\n",
              "<style scoped>\n",
              "    .dataframe tbody tr th:only-of-type {\n",
              "        vertical-align: middle;\n",
              "    }\n",
              "\n",
              "    .dataframe tbody tr th {\n",
              "        vertical-align: top;\n",
              "    }\n",
              "\n",
              "    .dataframe thead th {\n",
              "        text-align: right;\n",
              "    }\n",
              "</style>\n",
              "<table border=\"1\" class=\"dataframe\">\n",
              "  <thead>\n",
              "    <tr style=\"text-align: right;\">\n",
              "      <th></th>\n",
              "      <th>R&amp;D Spend</th>\n",
              "      <th>Administration</th>\n",
              "      <th>Marketing Spend</th>\n",
              "      <th>Profit</th>\n",
              "    </tr>\n",
              "  </thead>\n",
              "  <tbody>\n",
              "    <tr>\n",
              "      <th>0</th>\n",
              "      <td>165349.20</td>\n",
              "      <td>136897.80</td>\n",
              "      <td>471784.10</td>\n",
              "      <td>192261.83</td>\n",
              "    </tr>\n",
              "    <tr>\n",
              "      <th>1</th>\n",
              "      <td>162597.70</td>\n",
              "      <td>151377.59</td>\n",
              "      <td>443898.53</td>\n",
              "      <td>191792.06</td>\n",
              "    </tr>\n",
              "    <tr>\n",
              "      <th>2</th>\n",
              "      <td>153441.51</td>\n",
              "      <td>101145.55</td>\n",
              "      <td>407934.54</td>\n",
              "      <td>191050.39</td>\n",
              "    </tr>\n",
              "    <tr>\n",
              "      <th>3</th>\n",
              "      <td>144372.41</td>\n",
              "      <td>118671.85</td>\n",
              "      <td>383199.62</td>\n",
              "      <td>182901.99</td>\n",
              "    </tr>\n",
              "    <tr>\n",
              "      <th>4</th>\n",
              "      <td>142107.34</td>\n",
              "      <td>91391.77</td>\n",
              "      <td>366168.42</td>\n",
              "      <td>166187.94</td>\n",
              "    </tr>\n",
              "  </tbody>\n",
              "</table>\n",
              "</div>\n",
              "      <button class=\"colab-df-convert\" onclick=\"convertToInteractive('df-e187fdff-4383-4124-b66b-3a30169067a3')\"\n",
              "              title=\"Convert this dataframe to an interactive table.\"\n",
              "              style=\"display:none;\">\n",
              "        \n",
              "  <svg xmlns=\"http://www.w3.org/2000/svg\" height=\"24px\"viewBox=\"0 0 24 24\"\n",
              "       width=\"24px\">\n",
              "    <path d=\"M0 0h24v24H0V0z\" fill=\"none\"/>\n",
              "    <path d=\"M18.56 5.44l.94 2.06.94-2.06 2.06-.94-2.06-.94-.94-2.06-.94 2.06-2.06.94zm-11 1L8.5 8.5l.94-2.06 2.06-.94-2.06-.94L8.5 2.5l-.94 2.06-2.06.94zm10 10l.94 2.06.94-2.06 2.06-.94-2.06-.94-.94-2.06-.94 2.06-2.06.94z\"/><path d=\"M17.41 7.96l-1.37-1.37c-.4-.4-.92-.59-1.43-.59-.52 0-1.04.2-1.43.59L10.3 9.45l-7.72 7.72c-.78.78-.78 2.05 0 2.83L4 21.41c.39.39.9.59 1.41.59.51 0 1.02-.2 1.41-.59l7.78-7.78 2.81-2.81c.8-.78.8-2.07 0-2.86zM5.41 20L4 18.59l7.72-7.72 1.47 1.35L5.41 20z\"/>\n",
              "  </svg>\n",
              "      </button>\n",
              "      \n",
              "  <style>\n",
              "    .colab-df-container {\n",
              "      display:flex;\n",
              "      flex-wrap:wrap;\n",
              "      gap: 12px;\n",
              "    }\n",
              "\n",
              "    .colab-df-convert {\n",
              "      background-color: #E8F0FE;\n",
              "      border: none;\n",
              "      border-radius: 50%;\n",
              "      cursor: pointer;\n",
              "      display: none;\n",
              "      fill: #1967D2;\n",
              "      height: 32px;\n",
              "      padding: 0 0 0 0;\n",
              "      width: 32px;\n",
              "    }\n",
              "\n",
              "    .colab-df-convert:hover {\n",
              "      background-color: #E2EBFA;\n",
              "      box-shadow: 0px 1px 2px rgba(60, 64, 67, 0.3), 0px 1px 3px 1px rgba(60, 64, 67, 0.15);\n",
              "      fill: #174EA6;\n",
              "    }\n",
              "\n",
              "    [theme=dark] .colab-df-convert {\n",
              "      background-color: #3B4455;\n",
              "      fill: #D2E3FC;\n",
              "    }\n",
              "\n",
              "    [theme=dark] .colab-df-convert:hover {\n",
              "      background-color: #434B5C;\n",
              "      box-shadow: 0px 1px 3px 1px rgba(0, 0, 0, 0.15);\n",
              "      filter: drop-shadow(0px 1px 2px rgba(0, 0, 0, 0.3));\n",
              "      fill: #FFFFFF;\n",
              "    }\n",
              "  </style>\n",
              "\n",
              "      <script>\n",
              "        const buttonEl =\n",
              "          document.querySelector('#df-e187fdff-4383-4124-b66b-3a30169067a3 button.colab-df-convert');\n",
              "        buttonEl.style.display =\n",
              "          google.colab.kernel.accessAllowed ? 'block' : 'none';\n",
              "\n",
              "        async function convertToInteractive(key) {\n",
              "          const element = document.querySelector('#df-e187fdff-4383-4124-b66b-3a30169067a3');\n",
              "          const dataTable =\n",
              "            await google.colab.kernel.invokeFunction('convertToInteractive',\n",
              "                                                     [key], {});\n",
              "          if (!dataTable) return;\n",
              "\n",
              "          const docLinkHtml = 'Like what you see? Visit the ' +\n",
              "            '<a target=\"_blank\" href=https://colab.research.google.com/notebooks/data_table.ipynb>data table notebook</a>'\n",
              "            + ' to learn more about interactive tables.';\n",
              "          element.innerHTML = '';\n",
              "          dataTable['output_type'] = 'display_data';\n",
              "          await google.colab.output.renderOutput(dataTable, element);\n",
              "          const docLink = document.createElement('div');\n",
              "          docLink.innerHTML = docLinkHtml;\n",
              "          element.appendChild(docLink);\n",
              "        }\n",
              "      </script>\n",
              "    </div>\n",
              "  </div>\n",
              "  "
            ]
          },
          "metadata": {},
          "execution_count": 3
        }
      ],
      "source": [
        "#drop the column\n",
        "dataset = dataset.drop(columns = ['State'])\n",
        "\n",
        "#take a look again \n",
        "dataset.head()"
      ]
    },
    {
      "cell_type": "markdown",
      "metadata": {
        "papermill": {
          "duration": 0.041396,
          "end_time": "2020-10-01T15:25:32.784087",
          "exception": false,
          "start_time": "2020-10-01T15:25:32.742691",
          "status": "completed"
        },
        "tags": [],
        "id": "7Rygy3PimnLJ"
      },
      "source": [
        "Ok it's looking good.  Now we need to select the X variables and the Y variable (Independent and Dependent)"
      ]
    },
    {
      "cell_type": "code",
      "execution_count": 4,
      "metadata": {
        "execution": {
          "iopub.execute_input": "2020-10-01T15:25:32.875861Z",
          "iopub.status.busy": "2020-10-01T15:25:32.874669Z",
          "iopub.status.idle": "2020-10-01T15:25:32.879027Z",
          "shell.execute_reply": "2020-10-01T15:25:32.879604Z"
        },
        "papermill": {
          "duration": 0.054633,
          "end_time": "2020-10-01T15:25:32.879778",
          "exception": false,
          "start_time": "2020-10-01T15:25:32.825145",
          "status": "completed"
        },
        "tags": [],
        "id": "ILJmBVuRmnLK",
        "outputId": "c653c1f5-4cfe-4a64-98da-eb1f8854478b",
        "colab": {
          "base_uri": "https://localhost:8080/"
        }
      },
      "outputs": [
        {
          "output_type": "execute_result",
          "data": {
            "text/plain": [
              "array([[165349.2 , 136897.8 , 471784.1 ],\n",
              "       [162597.7 , 151377.59, 443898.53],\n",
              "       [153441.51, 101145.55, 407934.54],\n",
              "       [144372.41, 118671.85, 383199.62],\n",
              "       [142107.34,  91391.77, 366168.42],\n",
              "       [131876.9 ,  99814.71, 362861.36],\n",
              "       [134615.46, 147198.87, 127716.82],\n",
              "       [130298.13, 145530.06, 323876.68],\n",
              "       [120542.52, 148718.95, 311613.29],\n",
              "       [123334.88, 108679.17, 304981.62]])"
            ]
          },
          "metadata": {},
          "execution_count": 4
        }
      ],
      "source": [
        "#set independent variable by using all rows, but just column 1.\n",
        "X = dataset.iloc[:, :-1].values\n",
        "\n",
        "#set the dependent variable using all rows but only the last column. \n",
        "y = dataset.iloc[:, -1].values\n",
        "\n",
        "#lets take a look at X right now.\n",
        "X[0:10]"
      ]
    },
    {
      "cell_type": "markdown",
      "metadata": {
        "papermill": {
          "duration": 0.040959,
          "end_time": "2020-10-01T15:25:32.962798",
          "exception": false,
          "start_time": "2020-10-01T15:25:32.921839",
          "status": "completed"
        },
        "tags": [],
        "id": "nqRU3fgrmnLO"
      },
      "source": [
        "Next we need to scale down our X variables in order for our \"alphas\" to have an impact later when we introduce LASSO and RIDGE.\n",
        "\n",
        "We have two options, standardize and normalize.  Since we don't know the distrobution of our data, we will use normalize."
      ]
    },
    {
      "cell_type": "code",
      "execution_count": 5,
      "metadata": {
        "execution": {
          "iopub.execute_input": "2020-10-01T15:25:33.055793Z",
          "iopub.status.busy": "2020-10-01T15:25:33.054896Z",
          "iopub.status.idle": "2020-10-01T15:25:33.059811Z",
          "shell.execute_reply": "2020-10-01T15:25:33.059200Z"
        },
        "papermill": {
          "duration": 0.053565,
          "end_time": "2020-10-01T15:25:33.059946",
          "exception": false,
          "start_time": "2020-10-01T15:25:33.006381",
          "status": "completed"
        },
        "tags": [],
        "id": "LQ9-QtTXmnLQ",
        "outputId": "375a0cc3-26f5-4d73-a8ea-83eba240a7ea",
        "colab": {
          "base_uri": "https://localhost:8080/"
        }
      },
      "outputs": [
        {
          "output_type": "execute_result",
          "data": {
            "text/plain": [
              "array([[0.31900633, 0.26411537, 0.91020769],\n",
              "       [0.32756301, 0.30495941, 0.89426072],\n",
              "       [0.34294681, 0.22606362, 0.91174707],\n",
              "       [0.33862972, 0.2783483 , 0.89880595],\n",
              "       [0.35238805, 0.22662705, 0.90799936],\n",
              "       [0.33070362, 0.25030226, 0.9099362 ],\n",
              "       [0.56834481, 0.62147181, 0.53921884],\n",
              "       [0.34450073, 0.38477307, 0.85631123],\n",
              "       [0.32960386, 0.40664771, 0.85205571],\n",
              "       [0.35598308, 0.31368211, 0.88027245]])"
            ]
          },
          "metadata": {},
          "execution_count": 5
        }
      ],
      "source": [
        "X = normalize(X, 'l2')\n",
        "\n",
        "X[0:10]"
      ]
    },
    {
      "cell_type": "markdown",
      "metadata": {
        "papermill": {
          "duration": 0.041841,
          "end_time": "2020-10-01T15:25:33.145114",
          "exception": false,
          "start_time": "2020-10-01T15:25:33.103273",
          "status": "completed"
        },
        "tags": [],
        "id": "-o7DI7i_mnLS"
      },
      "source": [
        "In order to understand the effectiveness of Lasso and Ridge regression we will need a test set, so lets split our data into training and test sets."
      ]
    },
    {
      "cell_type": "code",
      "execution_count": 6,
      "metadata": {
        "execution": {
          "iopub.execute_input": "2020-10-01T15:25:33.243954Z",
          "iopub.status.busy": "2020-10-01T15:25:33.243032Z",
          "iopub.status.idle": "2020-10-01T15:25:33.246256Z",
          "shell.execute_reply": "2020-10-01T15:25:33.245520Z"
        },
        "papermill": {
          "duration": 0.056079,
          "end_time": "2020-10-01T15:25:33.246391",
          "exception": false,
          "start_time": "2020-10-01T15:25:33.190312",
          "status": "completed"
        },
        "tags": [],
        "id": "vDZ5LUDQmnLT"
      },
      "outputs": [],
      "source": [
        "#split the dataset.  Take 40% to be our test set. \n",
        "\n",
        "X_train, X_test, y_train, y_test = train_test_split(X, y, test_size = 0.4, random_state = 0)\n"
      ]
    },
    {
      "cell_type": "markdown",
      "metadata": {
        "papermill": {
          "duration": 0.042989,
          "end_time": "2020-10-01T15:25:33.332336",
          "exception": false,
          "start_time": "2020-10-01T15:25:33.289347",
          "status": "completed"
        },
        "tags": [],
        "id": "goC7z31UmnLV"
      },
      "source": [
        "With the dataset split, we can now load and fit the models.\n",
        "\n",
        "I will start with basic Linear Regression first."
      ]
    },
    {
      "cell_type": "code",
      "execution_count": 7,
      "metadata": {
        "execution": {
          "iopub.execute_input": "2020-10-01T15:25:33.502203Z",
          "iopub.status.busy": "2020-10-01T15:25:33.440723Z",
          "iopub.status.idle": "2020-10-01T15:25:33.510734Z",
          "shell.execute_reply": "2020-10-01T15:25:33.509920Z"
        },
        "papermill": {
          "duration": 0.136592,
          "end_time": "2020-10-01T15:25:33.510867",
          "exception": false,
          "start_time": "2020-10-01T15:25:33.374275",
          "status": "completed"
        },
        "tags": [],
        "id": "E6TSJi14mnLW",
        "outputId": "4f91388a-6a62-44b7-acd9-3bf90714a975",
        "colab": {
          "base_uri": "https://localhost:8080/"
        }
      },
      "outputs": [
        {
          "output_type": "execute_result",
          "data": {
            "text/plain": [
              "LinearRegression()"
            ]
          },
          "metadata": {},
          "execution_count": 7
        }
      ],
      "source": [
        "#this sets the object regressor to the class of LinearRegression from the Sklearn library.\n",
        "regressor = LinearRegression()\n",
        "\n",
        "#this fits the model to our training data.\n",
        "regressor.fit(X_train, y_train)"
      ]
    },
    {
      "cell_type": "markdown",
      "metadata": {
        "papermill": {
          "duration": 0.042467,
          "end_time": "2020-10-01T15:25:33.597140",
          "exception": false,
          "start_time": "2020-10-01T15:25:33.554673",
          "status": "completed"
        },
        "tags": [],
        "id": "iJXldxZ5mnLX"
      },
      "source": [
        "Now we can use the model to predict fit on the test set. "
      ]
    },
    {
      "cell_type": "code",
      "execution_count": 8,
      "metadata": {
        "execution": {
          "iopub.execute_input": "2020-10-01T15:25:33.690224Z",
          "iopub.status.busy": "2020-10-01T15:25:33.689227Z",
          "iopub.status.idle": "2020-10-01T15:25:33.692962Z",
          "shell.execute_reply": "2020-10-01T15:25:33.692100Z"
        },
        "papermill": {
          "duration": 0.052307,
          "end_time": "2020-10-01T15:25:33.693106",
          "exception": false,
          "start_time": "2020-10-01T15:25:33.640799",
          "status": "completed"
        },
        "tags": [],
        "id": "AWf4JGdemnLY"
      },
      "outputs": [],
      "source": [
        "#Predict on our test set.\n",
        "y_pred = regressor.predict(X_test)"
      ]
    },
    {
      "cell_type": "markdown",
      "metadata": {
        "papermill": {
          "duration": 0.042807,
          "end_time": "2020-10-01T15:25:33.781530",
          "exception": false,
          "start_time": "2020-10-01T15:25:33.738723",
          "status": "completed"
        },
        "tags": [],
        "id": "liWFRT7UmnLa"
      },
      "source": [
        "Finally, we can evaluate the quality of the fit. "
      ]
    },
    {
      "cell_type": "code",
      "execution_count": 9,
      "metadata": {
        "_cell_guid": "79c7e3d0-c299-4dcb-8224-4455121ee9b0",
        "_uuid": "d629ff2d2480ee46fbb7e2d37f6b5fab8052498a",
        "execution": {
          "iopub.execute_input": "2020-10-01T15:25:33.880701Z",
          "iopub.status.busy": "2020-10-01T15:25:33.879662Z",
          "iopub.status.idle": "2020-10-01T15:25:33.884228Z",
          "shell.execute_reply": "2020-10-01T15:25:33.885207Z"
        },
        "papermill": {
          "duration": 0.059827,
          "end_time": "2020-10-01T15:25:33.885505",
          "exception": false,
          "start_time": "2020-10-01T15:25:33.825678",
          "status": "completed"
        },
        "tags": [],
        "id": "2WX2qskUmnLb",
        "outputId": "e6301c9c-633d-4c15-d376-dbf6a5227caf",
        "colab": {
          "base_uri": "https://localhost:8080/"
        }
      },
      "outputs": [
        {
          "output_type": "stream",
          "name": "stdout",
          "text": [
            "R^2 score: 0.8341%\n",
            "MSE 209417522.03\n"
          ]
        }
      ],
      "source": [
        "#calculate the R^2 score\n",
        "score = r2_score(y_test, y_pred)\n",
        "mse = mean_squared_error(y_test, y_pred)\n",
        "\n",
        "#print out our score properly formatted as a percent.\n",
        "print(\"R^2 score:\", \"{:.4f}%\".format(score))\n",
        "print(\"MSE\", round(mse,2))"
      ]
    },
    {
      "cell_type": "markdown",
      "metadata": {
        "papermill": {
          "duration": 0.042925,
          "end_time": "2020-10-01T15:25:33.975484",
          "exception": false,
          "start_time": "2020-10-01T15:25:33.932559",
          "status": "completed"
        },
        "tags": [],
        "id": "74gXTDp9mnLc"
      },
      "source": [
        "We get an R^2 score of 83%, which is pretty good, but the mean squared error looks super high. So let's look at Lasso Regression and see if the error reduces"
      ]
    },
    {
      "cell_type": "markdown",
      "metadata": {
        "papermill": {
          "duration": 0.042916,
          "end_time": "2020-10-01T15:25:34.062898",
          "exception": false,
          "start_time": "2020-10-01T15:25:34.019982",
          "status": "completed"
        },
        "tags": [],
        "id": "n_hi_u1CmnLd"
      },
      "source": [
        "With Lasso regression, we have a new hyperparameter, 'alpha' "
      ]
    },
    {
      "cell_type": "code",
      "execution_count": 10,
      "metadata": {
        "execution": {
          "iopub.execute_input": "2020-10-01T15:25:34.165182Z",
          "iopub.status.busy": "2020-10-01T15:25:34.164117Z",
          "iopub.status.idle": "2020-10-01T15:25:34.185515Z",
          "shell.execute_reply": "2020-10-01T15:25:34.184689Z"
        },
        "papermill": {
          "duration": 0.078826,
          "end_time": "2020-10-01T15:25:34.185694",
          "exception": false,
          "start_time": "2020-10-01T15:25:34.106868",
          "status": "completed"
        },
        "tags": [],
        "id": "BAaQmi8ymnLe",
        "outputId": "45d25c38-2bdb-4354-dbf3-d3443776b448",
        "colab": {
          "base_uri": "https://localhost:8080/"
        }
      },
      "outputs": [
        {
          "output_type": "stream",
          "name": "stdout",
          "text": [
            "ALPHA: -5.000 R2 SCORE: 0.8342% new_score, 209220870.4\n",
            "ALPHA: -1.000 R2 SCORE: 0.8341% new_score, 209376097.3\n",
            "ALPHA: 0.000 R2 SCORE: 0.8341% new_score, 209417526.2\n",
            "ALPHA: 0.001 R2 SCORE: 0.8341% new_score, 209417563.3\n",
            "ALPHA: 0.010 R2 SCORE: 0.8341% new_score, 209417934.7\n",
            "ALPHA: 1.000 R2 SCORE: 0.8340% new_score, 209459372.7\n",
            "ALPHA: 5.000 R2 SCORE: 0.8339% new_score, 209637792.8\n"
          ]
        },
        {
          "output_type": "stream",
          "name": "stderr",
          "text": [
            "/usr/local/lib/python3.7/dist-packages/sklearn/linear_model/_coordinate_descent.py:648: ConvergenceWarning: Objective did not converge. You might want to increase the number of iterations, check the scale of the features or consider increasing regularisation. Duality gap: 2.293e+10, tolerance: 5.436e+06 Linear regression models with null weight for the l1 regularization term are more efficiently fitted using one of the solvers implemented in sklearn.linear_model.Ridge/RidgeCV instead.\n",
            "  coef_, l1_reg, l2_reg, X, y, max_iter, tol, rng, random, positive\n",
            "/usr/local/lib/python3.7/dist-packages/sklearn/linear_model/_coordinate_descent.py:648: ConvergenceWarning: Objective did not converge. You might want to increase the number of iterations, check the scale of the features or consider increasing regularisation. Duality gap: 2.303e+10, tolerance: 5.436e+06 Linear regression models with null weight for the l1 regularization term are more efficiently fitted using one of the solvers implemented in sklearn.linear_model.Ridge/RidgeCV instead.\n",
            "  coef_, l1_reg, l2_reg, X, y, max_iter, tol, rng, random, positive\n"
          ]
        }
      ],
      "source": [
        "alphas = [-5, -1, 1e-4, 1e-3, 1e-2, 1, 5]\n",
        "\n",
        "def test_alpha(a):\n",
        "    model_lasso = Lasso(alpha=a)\n",
        "    model_lasso.fit(X_train, y_train) \n",
        "    pred_test_lasso = model_lasso.predict(X_test)\n",
        "    new_score = r2_score(y_test, pred_test_lasso)\n",
        "    new_mse = mean_squared_error(y_test, pred_test_lasso)\n",
        "    print('ALPHA: {:.3f} R2 SCORE: {:.4f}% new_score, {:.1f}'.format(a, new_score, new_mse))\n",
        "    \n",
        "    \n",
        "for alpha in alphas:\n",
        "    test_alpha(alpha)\n"
      ]
    },
    {
      "cell_type": "markdown",
      "metadata": {
        "papermill": {
          "duration": 0.044611,
          "end_time": "2020-10-01T15:25:34.276428",
          "exception": false,
          "start_time": "2020-10-01T15:25:34.231817",
          "status": "completed"
        },
        "tags": [],
        "id": "TC1H92nNmnLg"
      },
      "source": [
        "Here we see that Lasso only slightly improved the accuracy of the model in the base case scenario.  Specifically where the Alpha was a large negative value.  This means that the true distrubtion actually has a higher slope than our inital model predicted. \n",
        "\n",
        "Now lets move on to ridge."
      ]
    },
    {
      "cell_type": "code",
      "execution_count": 11,
      "metadata": {
        "execution": {
          "iopub.execute_input": "2020-10-01T15:25:34.408677Z",
          "iopub.status.busy": "2020-10-01T15:25:34.384259Z",
          "iopub.status.idle": "2020-10-01T15:25:34.418639Z",
          "shell.execute_reply": "2020-10-01T15:25:34.419259Z"
        },
        "papermill": {
          "duration": 0.095177,
          "end_time": "2020-10-01T15:25:34.419428",
          "exception": false,
          "start_time": "2020-10-01T15:25:34.324251",
          "status": "completed"
        },
        "tags": [],
        "id": "lOG6h3cvmnLh",
        "outputId": "f2a63fc2-62cb-42f2-8539-a17b8ec90a24",
        "colab": {
          "base_uri": "https://localhost:8080/"
        }
      },
      "outputs": [
        {
          "output_type": "stream",
          "name": "stdout",
          "text": [
            "ALPHA: -5.000 R2 SCORE: -9.2274% new_score, 12906885540.4\n",
            "ALPHA: -1.000 R2 SCORE: -1.1315% new_score, 2689990172.3\n",
            "ALPHA: 0.000 R2 SCORE: 0.8340% new_score, 209430808.7\n",
            "ALPHA: 0.001 R2 SCORE: 0.8339% new_score, 209556856.1\n",
            "ALPHA: 0.010 R2 SCORE: 0.8325% new_score, 211341121.1\n",
            "ALPHA: 1.000 R2 SCORE: 0.6424% new_score, 451293520.7\n",
            "ALPHA: 5.000 R2 SCORE: 0.3771% new_score, 786067879.6\n"
          ]
        }
      ],
      "source": [
        "alphas = [-5, -1, 1e-4, 1e-3, 1e-2, 1, 5]\n",
        "\n",
        "def test_alpha_ridge(a):\n",
        "    model_lasso = Ridge(alpha=a)\n",
        "    model_lasso.fit(X_train, y_train) \n",
        "    pred_test_lasso = model_lasso.predict(X_test)\n",
        "    new_score = r2_score(y_test, pred_test_lasso)\n",
        "    new_mse = mean_squared_error(y_test, pred_test_lasso)\n",
        "    print('ALPHA: {:.3f} R2 SCORE: {:.4f}% new_score, {:.1f}'.format(a, new_score, new_mse))\n",
        "    \n",
        "    \n",
        "for alpha in alphas:\n",
        "    test_alpha_ridge(alpha)"
      ]
    },
    {
      "cell_type": "markdown",
      "metadata": {
        "papermill": {
          "duration": 0.045242,
          "end_time": "2020-10-01T15:25:34.511414",
          "exception": false,
          "start_time": "2020-10-01T15:25:34.466172",
          "status": "completed"
        },
        "tags": [],
        "id": "-19FXUWkmnLj"
      },
      "source": [
        "Here we see that Ridge is much more sensitive to the scale of Alpha, so lets fine tune it using only positive values. "
      ]
    },
    {
      "cell_type": "code",
      "execution_count": 12,
      "metadata": {
        "execution": {
          "iopub.execute_input": "2020-10-01T15:25:34.612284Z",
          "iopub.status.busy": "2020-10-01T15:25:34.611168Z",
          "iopub.status.idle": "2020-10-01T15:25:34.628653Z",
          "shell.execute_reply": "2020-10-01T15:25:34.629267Z"
        },
        "papermill": {
          "duration": 0.073316,
          "end_time": "2020-10-01T15:25:34.629477",
          "exception": false,
          "start_time": "2020-10-01T15:25:34.556161",
          "status": "completed"
        },
        "tags": [],
        "id": "757sIutemnLk",
        "outputId": "fcd50450-f62f-48d8-eef6-5923d7007b37",
        "colab": {
          "base_uri": "https://localhost:8080/"
        }
      },
      "outputs": [
        {
          "output_type": "stream",
          "name": "stdout",
          "text": [
            "ALPHA: 0.000 R2 SCORE: 0.8341% new_score, 209417522.0\n",
            "ALPHA: 0.000 R2 SCORE: 0.8341% new_score, 209417522.0\n",
            "ALPHA: 0.000 R2 SCORE: 0.8341% new_score, 209417523.3\n",
            "ALPHA: 0.000 R2 SCORE: 0.8340% new_score, 209430808.7\n",
            "ALPHA: 0.001 R2 SCORE: 0.8339% new_score, 209556856.1\n",
            "ALPHA: 0.010 R2 SCORE: 0.8325% new_score, 211341121.1\n",
            "ALPHA: 1.000 R2 SCORE: 0.6424% new_score, 451293520.7\n"
          ]
        }
      ],
      "source": [
        "new_alphas = [1e-15,1e-10,1e-8,1e-4, 1e-3, 1e-2, 1]\n",
        "\n",
        "for alpha in new_alphas:\n",
        "    test_alpha_ridge(alpha)"
      ]
    },
    {
      "cell_type": "markdown",
      "metadata": {
        "papermill": {
          "duration": 0.046195,
          "end_time": "2020-10-01T15:25:34.722672",
          "exception": false,
          "start_time": "2020-10-01T15:25:34.676477",
          "status": "completed"
        },
        "tags": [],
        "id": "4QmhXvxymnLm"
      },
      "source": [
        "Here we see that Lasso and Ridge Regression in this case **DO NOT** significantly improve the overall fit of the model. \n",
        "\n",
        "This is to be expected in some situations, but it is always great to check and verify when trying to fine tune your regression model. "
      ]
    },
    {
      "cell_type": "code",
      "execution_count": 12,
      "metadata": {
        "id": "tsWsHyYJmnLn"
      },
      "outputs": [],
      "source": [
        ""
      ]
    }
  ],
  "metadata": {
    "kernelspec": {
      "display_name": "Python 3",
      "language": "python",
      "name": "python3"
    },
    "language_info": {
      "codemirror_mode": {
        "name": "ipython",
        "version": 3
      },
      "file_extension": ".py",
      "mimetype": "text/x-python",
      "name": "python",
      "nbconvert_exporter": "python",
      "pygments_lexer": "ipython3",
      "version": "3.8.8"
    },
    "papermill": {
      "duration": 10.936191,
      "end_time": "2020-10-01T15:25:35.252408",
      "environment_variables": {},
      "exception": null,
      "input_path": "__notebook__.ipynb",
      "output_path": "__notebook__.ipynb",
      "parameters": {},
      "start_time": "2020-10-01T15:25:24.316217",
      "version": "2.1.0"
    },
    "colab": {
      "name": "lasso-and-ridge-regression.ipynb",
      "provenance": []
    }
  },
  "nbformat": 4,
  "nbformat_minor": 0
}